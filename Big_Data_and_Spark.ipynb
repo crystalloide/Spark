{
  "nbformat": 4,
  "nbformat_minor": 0,
  "metadata": {
    "kernelspec": {
      "language": "python",
      "display_name": "Python 3",
      "name": "python3"
    },
    "language_info": {
      "pygments_lexer": "ipython3",
      "nbconvert_exporter": "python",
      "version": "3.6.4",
      "file_extension": ".py",
      "codemirror_mode": {
        "name": "ipython",
        "version": 3
      },
      "name": "python",
      "mimetype": "text/x-python"
    },
    "colab": {
      "name": "Big Data and Spark.ipynb",
      "provenance": [],
      "collapsed_sections": [],
      "include_colab_link": true
    }
  },
  "cells": [
    {
      "cell_type": "markdown",
      "metadata": {
        "id": "view-in-github",
        "colab_type": "text"
      },
      "source": [
        "<a href=\"https://colab.research.google.com/github/crystalloide/Spark/blob/master/Big_Data_and_Spark.ipynb\" target=\"_parent\"><img src=\"https://colab.research.google.com/assets/colab-badge.svg\" alt=\"Open In Colab\"/></a>"
      ]
    },
    {
      "cell_type": "markdown",
      "metadata": {
        "id": "vfEf-WChi9Yd",
        "colab_type": "text"
      },
      "source": [
        "# Big Data\n",
        "\n",
        "Le Big Data n'est que de la donnée, mais en quantité ?\n",
        "\n",
        "Le Big Data peut être décrit à l'aide des «quatre V» (on évoque même 5 ou 7 V). \n",
        "\n",
        "Les quatre premiers V sont les suivants :\n",
        "1. Volume\n",
        "2. Vitesse\n",
        "3. Variété\n",
        "4. Véracité\n",
        "\n",
        "Les mégadonnées sont décrites comme étant volumineuses, en volume donc (quantité de données : de l'ordre de zétaoctets par exemple), comme arrivant à grande vitesse (données en streaming, par exemple, les données des capteurs ou des téraoctets d'informations commerciales), comme étant de différentes variétés (différentes formes de données, par exemple les vidéos et les tweets) et comme étant d'une véracité plus ou moins fiable, on parle alors d'incertitude de la valeur des données (par exemple, mauvaise qualité des données).\n",
        "\n",
        "En raison de la charge de traitement des mégadonnées, il est nécessaire d'utiliser des outils spéciaux optimisés pour des calculs de cette taille.\n",
        "\n"
      ]
    },
    {
      "cell_type": "markdown",
      "metadata": {
        "id": "UThDq6jri9Yf",
        "colab_type": "text"
      },
      "source": [
        "# Clusters de Stockage et de Calcul\n",
        "\n",
        "Un seul ordinateur ne sera pas en mesure de stocker seul l'ensemble des données à traiter. C'est ce qui est appelé un cluster de stockage : un groupe d'ordinateurs qui se répartissent les fragments de fichiers pour faire stocker la totalité des informations à traiter.\n",
        "\n",
        "L'overhead du traitement des données Big Data  provient du fait qu'un seul ordinateur ne fera pas le travail de traitement des données «big data», mais il faudra faire fonctionner plusieurs ordinateurs ensemble. \n",
        "C'est ce qui est appelé un cluster de calcul : un groupe d'ordinateurs qui travaillent ensemble pour faire le travail attendu.\n",
        "\n",
        "Comment gérer un ensemble d'ordinateurs pour travailler ensemble afin d' accomplir une tâche? \n",
        "\n",
        "Cette gestion du travail en cluster est en réalité difficile à gérer, du fait de la concurrence, de la communication interprocessus, de la planification des tâches, etc. A cela s'ajoute les problèmes \"normaux\" rencontrés sur des systèmes distribués comme les pannes d'ordinateur ou la latence du réseau, etc."
      ]
    },
    {
      "cell_type": "markdown",
      "metadata": {
        "id": "JbufdjBii9Yg",
        "colab_type": "text"
      },
      "source": [
        "# Hadoop\n",
        "\n",
        "Pour permettre ces usages liés au Big Data, ** Apache Hadoop ** a été mis au point et est constitué d'un framework, une collection d'outils, destinés à gérer les clusters et les utiliser.\n",
        "\n",
        "- Yarn : gestion des tâches de calcul dans le cluster\n",
        "- HDFS (Hadoop Distributed File System) : stockage des données réparties sur les nœuds du cluster (ordinateurs ou nodes)\n",
        "- Spark : framework permettant de réaliser des calculs sur les données"
      ]
    },
    {
      "cell_type": "markdown",
      "metadata": {
        "id": "oe40OMADi9Yh",
        "colab_type": "text"
      },
      "source": [
        "# Débutons avec Spark\n",
        "1. Télécharger [Spark (2.4.3)](https://spark.apache.org/) (ou la version pre-built la plus récente)\n",
        "2. Positionner une variable d'environnement (avec un terminal). Si on utilise  Python 3, cela donne :\n",
        "> export PYSPARK_PYTHON=python3\n",
        "3. Positionner également le path : (chemin d'accès vers les binaires)\n",
        "> export PATH=${PATH}:/home/you/spark-2.4.4-bin-hadoop2.7/bin\n",
        "4. Si vous obtenez une  erreur 'Py4JJavaError', vous devrez installer Java ou OpenJDK version 8\n",
        "\n",
        "Voilà comment configurer Spark.\n",
        "\n",
        "De plus, Pour exécuter un programme spark, il suffit ensuite d'entrer la commande suivante en ligne de commande dans une terminal :\n",
        "\n",
        "> spark-submit spark-program.py"
      ]
    },
    {
      "cell_type": "markdown",
      "metadata": {
        "id": "SUvBFrmSi9Yi",
        "colab_type": "text"
      },
      "source": [
        "# Notre 1er programme Spark"
      ]
    },
    {
      "cell_type": "markdown",
      "metadata": {
        "id": "vrwyO75Li9Yi",
        "colab_type": "text"
      },
      "source": [
        "Pour charger le fichier que nous allons utiliser, il faut d'abord l'importer dans l'environnement du notebook.\n",
        "Pour cela, en exécutant la cellule ci-dessous, il faut cliquer sur \"Select.Fichiers\" dans la cellule, choisir le fichier \"Los Angeles Traffic Collision Dataset\" et l'importer.\n",
        "\n",
        "A noter : \n",
        "N'hésitez pas à utiliser un autre dataset lors de futures expériences. \n",
        "Il faut alors vérifiez le type de fichier et changer la méthode de lecture spark en conséquence."
      ]
    },
    {
      "cell_type": "code",
      "metadata": {
        "id": "DRgF8JSlodwj",
        "colab_type": "code",
        "outputId": "996a9d92-e11d-4516-973d-be501a5166dd",
        "colab": {
          "resources": {
            "http://localhost:8080/nbextensions/google.colab/files.js": {
              "data": "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",
              "ok": true,
              "headers": [
                [
                  "content-type",
                  "application/javascript"
                ]
              ],
              "status": 200,
              "status_text": ""
            }
          },
          "base_uri": "https://localhost:8080/",
          "height": 75
        }
      },
      "source": [
        "# Ici on va récupérer les fichier traffic-collision-data-from-2010-to-present.csv sur le poste local et l'uploader ensuite dans /content sur google colaboratory \n",
        "# Décommentez ci-dessous pour refaire l'upload :\n",
        "from google.colab import files\n",
        "files.upload()"
      ],
      "execution_count": 0,
      "outputs": [
        {
          "output_type": "display_data",
          "data": {
            "text/html": [
              "\n",
              "     <input type=\"file\" id=\"files-0a945109-a3bb-497f-ad56-cbafe34e76b8\" name=\"files[]\" multiple disabled />\n",
              "     <output id=\"result-0a945109-a3bb-497f-ad56-cbafe34e76b8\">\n",
              "      Upload widget is only available when the cell has been executed in the\n",
              "      current browser session. Please rerun this cell to enable.\n",
              "      </output>\n",
              "      <script src=\"/nbextensions/google.colab/files.js\"></script> "
            ],
            "text/plain": [
              "<IPython.core.display.HTML object>"
            ]
          },
          "metadata": {
            "tags": []
          }
        },
        {
          "output_type": "stream",
          "text": [
            "Saving traffic-collision-data-from-2010-to-present.csv.zip to traffic-collision-data-from-2010-to-present.csv.zip\n"
          ],
          "name": "stdout"
        }
      ]
    },
    {
      "cell_type": "code",
      "metadata": {
        "id": "QJXs_e05rdCe",
        "colab_type": "code",
        "outputId": "1628f419-689d-4d65-f33a-0aa9db3b0cf8",
        "colab": {
          "base_uri": "https://localhost:8080/",
          "height": 121
        }
      },
      "source": [
        "%ls \n",
        "!unzip traffic-collision-data-from-2010-to-present.csv.zip\n"
      ],
      "execution_count": 0,
      "outputs": [
        {
          "output_type": "stream",
          "text": [
            "\u001b[0m\u001b[01;34msample_data\u001b[0m/\n",
            "traffic-collision-data-from-2010-to-present.csv\n",
            "traffic-collision-data-from-2010-to-present.csv.zip\n",
            "Archive:  traffic-collision-data-from-2010-to-present.csv.zip\n",
            "replace traffic-collision-data-from-2010-to-present.csv? [y]es, [n]o, [A]ll, [N]one, [r]ename: y\n",
            "  inflating: traffic-collision-data-from-2010-to-present.csv  \n"
          ],
          "name": "stdout"
        }
      ]
    },
    {
      "cell_type": "code",
      "metadata": {
        "id": "MMKnV8QcugIQ",
        "colab_type": "code",
        "outputId": "64a86837-266b-40da-fae2-18a505e9d7b9",
        "colab": {
          "base_uri": "https://localhost:8080/",
          "height": 104
        }
      },
      "source": [
        "!pwd\n",
        "print(\"****\") \n",
        "%ls "
      ],
      "execution_count": 0,
      "outputs": [
        {
          "output_type": "stream",
          "text": [
            "/content\n",
            "****\n",
            "\u001b[0m\u001b[01;34msample_data\u001b[0m/\n",
            "traffic-collision-data-from-2010-to-present.csv\n",
            "traffic-collision-data-from-2010-to-present.csv.zip\n"
          ],
          "name": "stdout"
        }
      ]
    },
    {
      "cell_type": "code",
      "metadata": {
        "trusted": true,
        "id": "F7t1hq7li9Ym",
        "colab_type": "code",
        "outputId": "9da54118-ad98-43a0-ed0a-40e4f894b3fd",
        "colab": {
          "base_uri": "https://localhost:8080/",
          "height": 263
        }
      },
      "source": [
        "!pip install pyspark"
      ],
      "execution_count": 0,
      "outputs": [
        {
          "output_type": "stream",
          "text": [
            "Collecting pyspark\n",
            "\u001b[?25l  Downloading https://files.pythonhosted.org/packages/9a/5a/271c416c1c2185b6cb0151b29a91fff6fcaed80173c8584ff6d20e46b465/pyspark-2.4.5.tar.gz (217.8MB)\n",
            "\u001b[K     |████████████████████████████████| 217.8MB 62kB/s \n",
            "\u001b[?25hCollecting py4j==0.10.7\n",
            "\u001b[?25l  Downloading https://files.pythonhosted.org/packages/e3/53/c737818eb9a7dc32a7cd4f1396e787bd94200c3997c72c1dbe028587bd76/py4j-0.10.7-py2.py3-none-any.whl (197kB)\n",
            "\u001b[K     |████████████████████████████████| 204kB 43.0MB/s \n",
            "\u001b[?25hBuilding wheels for collected packages: pyspark\n",
            "  Building wheel for pyspark (setup.py) ... \u001b[?25l\u001b[?25hdone\n",
            "  Created wheel for pyspark: filename=pyspark-2.4.5-py2.py3-none-any.whl size=218257927 sha256=06f6deed59fa87c6dbc69bcf4b0fca384d6e3aa22ef3840982f098e57cbcf944\n",
            "  Stored in directory: /root/.cache/pip/wheels/bf/db/04/61d66a5939364e756eb1c1be4ec5bdce6e04047fc7929a3c3c\n",
            "Successfully built pyspark\n",
            "Installing collected packages: py4j, pyspark\n",
            "Successfully installed py4j-0.10.7 pyspark-2.4.5\n"
          ],
          "name": "stdout"
        }
      ]
    },
    {
      "cell_type": "code",
      "metadata": {
        "trusted": true,
        "id": "AAX5yjXsi9Yj",
        "colab_type": "code",
        "outputId": "03e3d331-ed75-41d1-c9b8-f99a07400194",
        "colab": {
          "base_uri": "https://localhost:8080/",
          "height": 35
        }
      },
      "source": [
        "import os\n",
        "input_dir = '/content'\n",
        "os.listdir(input_dir)\n",
        "file = 'traffic-collision-data-from-2010-to-present.csv'\n",
        "path = os.path.join(input_dir,file)\n",
        "print(path)"
      ],
      "execution_count": 0,
      "outputs": [
        {
          "output_type": "stream",
          "text": [
            "/content/traffic-collision-data-from-2010-to-present.csv\n"
          ],
          "name": "stdout"
        }
      ]
    },
    {
      "cell_type": "code",
      "metadata": {
        "trusted": true,
        "id": "5U3C9gaXi9Yo",
        "colab_type": "code",
        "outputId": "a24e9fd9-5adb-43b4-e546-4f664987ebf0",
        "colab": {
          "base_uri": "https://localhost:8080/",
          "height": 540
        }
      },
      "source": [
        "import sys\n",
        "from pyspark.sql import SparkSession, functions, types\n",
        "%ls \n",
        "spark = SparkSession.builder.appName('example 1').getOrCreate()\n",
        "spark.sparkContext.setLogLevel('WARN')\n",
        "\n",
        "assert sys.version_info >= (3, 5) # make sure we have Python 3.5+\n",
        "assert spark.version >= '2.3' # make sure we have Spark 2.3+\n",
        "\n",
        "data = spark.read.csv(path, header=True,\n",
        "                      inferSchema=True)\n",
        "data.show()"
      ],
      "execution_count": 0,
      "outputs": [
        {
          "output_type": "stream",
          "text": [
            "\u001b[0m\u001b[01;34msample_data\u001b[0m/\n",
            "traffic-collision-data-from-2010-to-present.csv\n",
            "traffic-collision-data-from-2010-to-present.csv.zip\n",
            "+---------+-------------------+-------------------+-------------+-------+-----------+------------------+----------+----------------------+--------+----------+----------+--------------+------------+-------------------+--------------------+--------------------+--------------------+---------------+----------------+-------------------+--------------------+-----------------+---------------------------------+\n",
            "|DR Number|      Date Reported|      Date Occurred|Time Occurred|Area ID|  Area Name|Reporting District|Crime Code|Crime Code Description|MO Codes|Victim Age|Victim Sex|Victim Descent|Premise Code|Premise Description|             Address|        Cross Street|            Location|      Zip Codes|   Census Tracts|Precinct Boundaries|   LA Specific Plans|Council Districts|Neighborhood Councils (Certified)|\n",
            "+---------+-------------------+-------------------+-------------+-------+-----------+------------------+----------+----------------------+--------+----------+----------+--------------+------------+-------------------+--------------------+--------------------+--------------------+---------------+----------------+-------------------+--------------------+-----------------+---------------------------------+\n",
            "|191514735|2019-07-26 00:00:00|2019-07-26 00:00:00|         1510|     15|N Hollywood|              1504|       997|     TRAFFIC COLLISION|    null|        22|         M|             H|         101|             STREET|SATICOY          ...|LANKERSHIM       ...|\"{'latitude': '34...| \"\"city\"\": \"\"\"\"| \"\"state\"\": \"\"\"\"|    \"\"zip\"\": \"\"\"\"}'| 'longitude': '-1...|             8888|                              160|\n",
            "|192113375|2019-07-26 00:00:00|2019-07-26 00:00:00|         1230|     21|    Topanga|              2183|       997|     TRAFFIC COLLISION|    null|        85|         F|             W|         101|             STREET|              VALMAR|          MULHOLLAND|\"{'latitude': '34...| \"\"city\"\": \"\"\"\"| \"\"state\"\": \"\"\"\"|    \"\"zip\"\": \"\"\"\"}'| 'longitude': '-1...|            19346|                              310|\n",
            "|191012715|2019-07-26 00:00:00|2019-07-26 00:00:00|         2350|     10|West Valley|              1008|       997|     TRAFFIC COLLISION|    null|      null|         M|             W|         101|             STREET|7900    WOODLEY  ...|                null|\"{'latitude': '34...| \"\"city\"\": \"\"\"\"| \"\"state\"\": \"\"\"\"|    \"\"zip\"\": \"\"\"\"}'| 'longitude': '-1...|            19734|                             2325|\n",
            "|190412661|2019-07-26 00:00:00|2019-07-26 00:00:00|         1740|      4| Hollenbeck|               497|       997|     TRAFFIC COLLISION|    null|        29|         M|             W|         101|             STREET|SOTO             ...|OLYMPIC          ...|\"{'latitude': '34...| \"\"city\"\": \"\"\"\"| \"\"state\"\": \"\"\"\"|    \"\"zip\"\": \"\"\"\"}'| 'longitude': '-1...|            23441|                              535|\n",
            "|191315678|2019-07-26 00:00:00|2019-07-26 00:00:00|         1635|     13|     Newton|              1333|       997|     TRAFFIC COLLISION|    null|        24|         F|             H|         101|             STREET|JEFFERSON        ...|MCKINLEY         ...|\"{'latitude': '34...| \"\"city\"\": \"\"\"\"| \"\"state\"\": \"\"\"\"|    \"\"zip\"\": \"\"\"\"}'| 'longitude': '-1...|            22727|                              712|\n",
            "|190914301|2019-07-26 00:00:00|2019-07-26 00:00:00|         1440|      9|   Van Nuys|               937|       997|     TRAFFIC COLLISION|    null|        50|         F|             H|         101|             STREET|             VICTORY|            MATILIJA|\"{'latitude': '34...| \"\"city\"\": \"\"\"\"| \"\"state\"\": \"\"\"\"|    \"\"zip\"\": \"\"\"\"}'| 'longitude': '-1...|            19729|                              235|\n",
            "|190412643|2019-07-26 00:00:00|2019-07-26 00:00:00|          845|      4| Hollenbeck|               471|       997|     TRAFFIC COLLISION|    null|        36|         F|             W|         101|             STREET|ANDERSON         ...|SUNRISE          ...|\"{'latitude': '34...| \"\"city\"\": \"\"\"\"| \"\"state\"\": \"\"\"\"|    \"\"zip\"\": \"\"\"\"}'| 'longitude': '-1...|            23441|                              535|\n",
            "|191514722|2019-07-26 00:00:00|2019-07-26 00:00:00|         1550|     15|N Hollywood|              1566|       997|     TRAFFIC COLLISION|    null|        37|         M|             H|         101|             STREET|LANDALE          ...|BELLFLOWER       ...|\"{'latitude': '34...| \"\"city\"\": \"\"\"\"| \"\"state\"\": \"\"\"\"|    \"\"zip\"\": \"\"\"\"}'| 'longitude': '-1...|             8489|                              343|\n",
            "|192113347|2019-07-26 00:00:00|2019-07-26 00:00:00|         1030|     21|    Topanga|              2107|       997|     TRAFFIC COLLISION|    null|        26|         M|             H|         101|             STREET|             DE SOTO|              ROSCOE|\"{'latitude': '34...| \"\"city\"\": \"\"\"\"| \"\"state\"\": \"\"\"\"|    \"\"zip\"\": \"\"\"\"}'| 'longitude': '-1...|             4282|                               94|\n",
            "|190412649|2019-07-26 00:00:00|2019-07-26 00:00:00|          225|      4| Hollenbeck|               477|       997|     TRAFFIC COLLISION|    null|      null|         F|             X|         101|             STREET|2800 E  6TH      ...|                null|\"{'latitude': '34...| \"\"city\"\": \"\"\"\"| \"\"state\"\": \"\"\"\"|    \"\"zip\"\": \"\"\"\"}'| 'longitude': '-1...|            23441|                              524|\n",
            "|192113373|2019-07-26 00:00:00|2019-07-26 00:00:00|         1300|     21|    Topanga|              2177|       997|     TRAFFIC COLLISION|    null|        50|         M|             W|         101|             STREET|              VARIEL|              OXNARD|\"{'latitude': '34...| \"\"city\"\": \"\"\"\"| \"\"state\"\": \"\"\"\"|    \"\"zip\"\": \"\"\"\"}'| 'longitude': '-1...|            19347|                              295|\n",
            "|191315669|2019-07-26 00:00:00|2019-07-26 00:00:00|          650|     13|     Newton|              1317|       997|     TRAFFIC COLLISION|    null|        51|         M|             B|         101|             STREET|CENTRAL          ...|S  WASHINGTON    ...|\"{'latitude': '34...| \"\"city\"\": \"\"\"\"| \"\"state\"\": \"\"\"\"|    \"\"zip\"\": \"\"\"\"}'| 'longitude': '-1...|            22727|                              702|\n",
            "|190914305|2019-07-26 00:00:00|2019-07-26 00:00:00|         1550|      9|   Van Nuys|               919|       997|     TRAFFIC COLLISION|    null|        39|         F|             B|         101|             STREET|             WOODMAN|             VANOWEN|\"{'latitude': '34...| \"\"city\"\": \"\"\"\"| \"\"state\"\": \"\"\"\"|    \"\"zip\"\": \"\"\"\"}'| 'longitude': '-1...|            19733|                              183|\n",
            "|190914293|2019-07-26 00:00:00|2019-07-26 00:00:00|         1110|      9|   Van Nuys|               926|       997|     TRAFFIC COLLISION|    null|        50|         F|             O|         101|             STREET|            VAN NUYS|           KITTRIDGE|\"{'latitude': '34...| \"\"city\"\": \"\"\"\"| \"\"state\"\": \"\"\"\"|    \"\"zip\"\": \"\"\"\"}'| 'longitude': '-1...|            19733|                              236|\n",
            "|190813247|2019-07-26 00:00:00|2019-07-26 00:00:00|          840|      8|    West LA|               849|       997|     TRAFFIC COLLISION|    null|        36|         M|             K|         101|             STREET|OLYMPIC          ...|ROBERTSON        ...|\"{'latitude': '34...| \"\"city\"\": \"\"\"\"| \"\"state\"\": \"\"\"\"|    \"\"zip\"\": \"\"\"\"}'| 'longitude': '-1...|            23666|                              640|\n",
            "|190513159|2019-07-26 00:00:00|2019-07-26 00:00:00|           30|      5|     Harbor|               522|       997|     TRAFFIC COLLISION|    0605|        18|         X|             X|         101|             STREET|WILMINGTON       ...|ANAHEIM          ...|\"{'latitude': '33...| \"\"city\"\": \"\"\"\"| \"\"state\"\": \"\"\"\"|    \"\"zip\"\": \"\"\"\"}'| 'longitude': '-1...|             3350|                              956|\n",
            "|190714229|2019-07-26 00:00:00|2019-07-26 00:00:00|         1425|      7|   Wilshire|               758|       997|     TRAFFIC COLLISION|    null|        24|         F|             H|         108|        PARKING LOT|PICO             ...|          QUEEN ANNE|\"{'latitude': '34...| \"\"city\"\": \"\"\"\"| \"\"state\"\": \"\"\"\"|    \"\"zip\"\": \"\"\"\"}'| 'longitude': '-1...|            23080|                             null|\n",
            "|190412648|2019-07-26 00:00:00|2019-07-26 00:00:00|            5|      4| Hollenbeck|               443|       997|     TRAFFIC COLLISION|    null|        40|         M|             I|         101|             STREET|SOTO             ...|        N  CHARLOTTE|\"{'latitude': '34...| \"\"city\"\": \"\"\"\"| \"\"state\"\": \"\"\"\"|    \"\"zip\"\": \"\"\"\"}'| 'longitude': '-1...|            23450|                              508|\n",
            "|190119257|2019-07-26 00:00:00|2019-07-26 00:00:00|         1130|      1|    Central|               142|       997|     TRAFFIC COLLISION|    null|        49|         M|             W|         108|        PARKING LOT|400 S  HOPE      ...|                null|\"{'latitude': '34...| \"\"city\"\": \"\"\"\"| \"\"state\"\": \"\"\"\"|    \"\"zip\"\": \"\"\"\"}'| 'longitude': '-1...|            24035|                              545|\n",
            "|190119298|2019-07-26 00:00:00|2019-07-26 00:00:00|         1420|      1|    Central|               138|       997|     TRAFFIC COLLISION|    null|        27|         M|             W|         101|             STREET|                WALL|                 3RD|\"{'latitude': '34...| \"\"city\"\": \"\"\"\"| \"\"state\"\": \"\"\"\"|    \"\"zip\"\": \"\"\"\"}'| 'longitude': '-1...|            23074|                              536|\n",
            "+---------+-------------------+-------------------+-------------+-------+-----------+------------------+----------+----------------------+--------+----------+----------+--------------+------------+-------------------+--------------------+--------------------+--------------------+---------------+----------------+-------------------+--------------------+-----------------+---------------------------------+\n",
            "only showing top 20 rows\n",
            "\n"
          ],
          "name": "stdout"
        }
      ]
    },
    {
      "cell_type": "markdown",
      "metadata": {
        "id": "Ue92JYZgi9Yr",
        "colab_type": "text"
      },
      "source": [
        "Hum .. Comme cela n'est pas très joli, voyons ce que l'on peut faire.\n",
        "Tout d'abord, explorons certaines méthodes avec un dataframe Spark."
      ]
    },
    {
      "cell_type": "code",
      "metadata": {
        "trusted": true,
        "id": "3-p1Zh1Ci9Yr",
        "colab_type": "code",
        "outputId": "02c38f8a-2880-463e-b0f6-7408af68bc63",
        "colab": {
          "base_uri": "https://localhost:8080/",
          "height": 468
        }
      },
      "source": [
        "# Regardons le schéma\n",
        "data.printSchema()"
      ],
      "execution_count": 0,
      "outputs": [
        {
          "output_type": "stream",
          "text": [
            "root\n",
            " |-- DR Number: integer (nullable = true)\n",
            " |-- Date Reported: timestamp (nullable = true)\n",
            " |-- Date Occurred: timestamp (nullable = true)\n",
            " |-- Time Occurred: integer (nullable = true)\n",
            " |-- Area ID: integer (nullable = true)\n",
            " |-- Area Name: string (nullable = true)\n",
            " |-- Reporting District: integer (nullable = true)\n",
            " |-- Crime Code: integer (nullable = true)\n",
            " |-- Crime Code Description: string (nullable = true)\n",
            " |-- MO Codes: string (nullable = true)\n",
            " |-- Victim Age: integer (nullable = true)\n",
            " |-- Victim Sex: string (nullable = true)\n",
            " |-- Victim Descent: string (nullable = true)\n",
            " |-- Premise Code: integer (nullable = true)\n",
            " |-- Premise Description: string (nullable = true)\n",
            " |-- Address: string (nullable = true)\n",
            " |-- Cross Street: string (nullable = true)\n",
            " |-- Location: string (nullable = true)\n",
            " |-- Zip Codes: string (nullable = true)\n",
            " |-- Census Tracts: string (nullable = true)\n",
            " |-- Precinct Boundaries: string (nullable = true)\n",
            " |-- LA Specific Plans: string (nullable = true)\n",
            " |-- Council Districts: integer (nullable = true)\n",
            " |-- Neighborhood Councils (Certified): integer (nullable = true)\n",
            "\n"
          ],
          "name": "stdout"
        }
      ]
    },
    {
      "cell_type": "code",
      "metadata": {
        "trusted": true,
        "id": "o0O7B7xyi9Yu",
        "colab_type": "code",
        "outputId": "cf855c06-8933-4f37-d92d-3c813e93f9c4",
        "colab": {
          "base_uri": "https://localhost:8080/",
          "height": 468
        }
      },
      "source": [
        "# Sélectionnons quelques colonnes\n",
        "data.select(data['Crime Code'], data['Victim Age']).show()"
      ],
      "execution_count": 0,
      "outputs": [
        {
          "output_type": "stream",
          "text": [
            "+----------+----------+\n",
            "|Crime Code|Victim Age|\n",
            "+----------+----------+\n",
            "|       997|        22|\n",
            "|       997|        85|\n",
            "|       997|      null|\n",
            "|       997|        29|\n",
            "|       997|        24|\n",
            "|       997|        50|\n",
            "|       997|        36|\n",
            "|       997|        37|\n",
            "|       997|        26|\n",
            "|       997|      null|\n",
            "|       997|        50|\n",
            "|       997|        51|\n",
            "|       997|        39|\n",
            "|       997|        50|\n",
            "|       997|        36|\n",
            "|       997|        18|\n",
            "|       997|        24|\n",
            "|       997|        40|\n",
            "|       997|        49|\n",
            "|       997|        27|\n",
            "+----------+----------+\n",
            "only showing top 20 rows\n",
            "\n"
          ],
          "name": "stdout"
        }
      ]
    },
    {
      "cell_type": "code",
      "metadata": {
        "trusted": true,
        "id": "YRvJaknii9Yw",
        "colab_type": "code",
        "outputId": "c989e5d6-be39-4f8b-e31c-350a3b2cffce",
        "colab": {
          "base_uri": "https://localhost:8080/",
          "height": 468
        }
      },
      "source": [
        "# Filtrons les données\n",
        "data.filter(data['Victim Age'] < 40).select('Victim Age', 'Victim Sex').show()"
      ],
      "execution_count": 0,
      "outputs": [
        {
          "output_type": "stream",
          "text": [
            "+----------+----------+\n",
            "|Victim Age|Victim Sex|\n",
            "+----------+----------+\n",
            "|        22|         M|\n",
            "|        29|         M|\n",
            "|        24|         F|\n",
            "|        36|         F|\n",
            "|        37|         M|\n",
            "|        26|         M|\n",
            "|        39|         F|\n",
            "|        36|         M|\n",
            "|        18|         X|\n",
            "|        24|         F|\n",
            "|        27|         M|\n",
            "|        32|         F|\n",
            "|        34|         M|\n",
            "|        18|         F|\n",
            "|        28|         M|\n",
            "|        26|         M|\n",
            "|        30|         M|\n",
            "|        35|         M|\n",
            "|        32|         M|\n",
            "|        36|         M|\n",
            "+----------+----------+\n",
            "only showing top 20 rows\n",
            "\n"
          ],
          "name": "stdout"
        }
      ]
    },
    {
      "cell_type": "code",
      "metadata": {
        "trusted": true,
        "id": "hLuvfipVi9Yz",
        "colab_type": "code",
        "colab": {}
      },
      "source": [
        "# Ecrivons dans un fichier en format json\n",
        "json_file = data.filter(data['Victim Age'] < 40).select('Victim Age', 'Victim Sex')\n",
        "json_file.write.json('json_output', mode='overwrite')"
      ],
      "execution_count": 0,
      "outputs": []
    },
    {
      "cell_type": "markdown",
      "metadata": {
        "id": "ag2PXcJxwuCS",
        "colab_type": "text"
      },
      "source": [
        "On liste la sortie : "
      ]
    },
    {
      "cell_type": "code",
      "metadata": {
        "trusted": true,
        "id": "b8olRMYhi9Y2",
        "colab_type": "code",
        "outputId": "165d5e37-98ea-4694-9c66-8a0999046787",
        "colab": {
          "base_uri": "https://localhost:8080/",
          "height": 52
        }
      },
      "source": [
        "!ls json_output"
      ],
      "execution_count": 0,
      "outputs": [
        {
          "output_type": "stream",
          "text": [
            "part-00000-9de36b96-2dc9-4b42-bebb-86799f68c566-c000.json  _SUCCESS\n",
            "part-00001-9de36b96-2dc9-4b42-bebb-86799f68c566-c000.json\n"
          ],
          "name": "stdout"
        }
      ]
    },
    {
      "cell_type": "markdown",
      "metadata": {
        "id": "b3gPE9cXi9Y1",
        "colab_type": "text"
      },
      "source": [
        "Si vous vous attendiez à un simple fichier json, vous allez être surpris.\n",
        "\n",
        "Vous obtenez plutôt un **répertoire** de plusieurs fichiers json. \n",
        "\n",
        "La concaténation de ces fichiers est la sortie réelle. \n",
        "\n",
        "Cela provient de la façon dont Spark calcule. \n",
        "\n",
        "Cela sera détaillé plus tard."
      ]
    },
    {
      "cell_type": "code",
      "metadata": {
        "trusted": true,
        "id": "l2-49tCoi9Y4",
        "colab_type": "code",
        "outputId": "6eac2d80-ee53-488a-ba19-abb1acf965a9",
        "colab": {
          "base_uri": "https://localhost:8080/",
          "height": 1000
        }
      },
      "source": [
        "# Encore quelques informations\n",
        "\n",
        "# Opérons un calcul sur une colonne et renommons-là\n",
        "data.select((data['Council Districts']/2).alias('CD_dividedBy2')).show()\n",
        "\n",
        "# Renommons des colonnes \n",
        "data.withColumnRenamed('Victim Sex', 'Gender').select('Gender').show()\n",
        "\n",
        "# Supprimons des colonnes et appliquons un format vertical plus approprié pour les 10 premiers\n",
        "d = data.drop('Neighborhood Councils')\n",
        "d.show(n=10, truncate=False, vertical=True)"
      ],
      "execution_count": 0,
      "outputs": [
        {
          "output_type": "stream",
          "text": [
            "+-------------+\n",
            "|CD_dividedBy2|\n",
            "+-------------+\n",
            "|       4444.0|\n",
            "|       9673.0|\n",
            "|       9867.0|\n",
            "|      11720.5|\n",
            "|      11363.5|\n",
            "|       9864.5|\n",
            "|      11720.5|\n",
            "|       4244.5|\n",
            "|       2141.0|\n",
            "|      11720.5|\n",
            "|       9673.5|\n",
            "|      11363.5|\n",
            "|       9866.5|\n",
            "|       9866.5|\n",
            "|      11833.0|\n",
            "|       1675.0|\n",
            "|      11540.0|\n",
            "|      11725.0|\n",
            "|      12017.5|\n",
            "|      11537.0|\n",
            "+-------------+\n",
            "only showing top 20 rows\n",
            "\n",
            "+------+\n",
            "|Gender|\n",
            "+------+\n",
            "|     M|\n",
            "|     F|\n",
            "|     M|\n",
            "|     M|\n",
            "|     F|\n",
            "|     F|\n",
            "|     F|\n",
            "|     M|\n",
            "|     M|\n",
            "|     F|\n",
            "|     M|\n",
            "|     M|\n",
            "|     F|\n",
            "|     F|\n",
            "|     M|\n",
            "|     X|\n",
            "|     F|\n",
            "|     M|\n",
            "|     M|\n",
            "|     M|\n",
            "+------+\n",
            "only showing top 20 rows\n",
            "\n",
            "-RECORD 0------------------------------------------------------------------------------------------\n",
            " DR Number                         | 191514735                                                     \n",
            " Date Reported                     | 2019-07-26 00:00:00                                           \n",
            " Date Occurred                     | 2019-07-26 00:00:00                                           \n",
            " Time Occurred                     | 1510                                                          \n",
            " Area ID                           | 15                                                            \n",
            " Area Name                         | N Hollywood                                                   \n",
            " Reporting District                | 1504                                                          \n",
            " Crime Code                        | 997                                                           \n",
            " Crime Code Description            | TRAFFIC COLLISION                                             \n",
            " MO Codes                          | null                                                          \n",
            " Victim Age                        | 22                                                            \n",
            " Victim Sex                        | M                                                             \n",
            " Victim Descent                    | H                                                             \n",
            " Premise Code                      | 101                                                           \n",
            " Premise Description               | STREET                                                        \n",
            " Address                           | SATICOY                      ST                               \n",
            " Cross Street                      | LANKERSHIM                   BL                               \n",
            " Location                          | \"{'latitude': '34.2085', 'human_address': '{\"\"address\"\": \"\"\"\" \n",
            " Zip Codes                         |  \"\"city\"\": \"\"\"\"                                               \n",
            " Census Tracts                     |  \"\"state\"\": \"\"\"\"                                              \n",
            " Precinct Boundaries               |  \"\"zip\"\": \"\"\"\"}'                                              \n",
            " LA Specific Plans                 |  'longitude': '-118.3878'}\"                                   \n",
            " Council Districts                 | 8888                                                          \n",
            " Neighborhood Councils (Certified) | 160                                                           \n",
            "-RECORD 1------------------------------------------------------------------------------------------\n",
            " DR Number                         | 192113375                                                     \n",
            " Date Reported                     | 2019-07-26 00:00:00                                           \n",
            " Date Occurred                     | 2019-07-26 00:00:00                                           \n",
            " Time Occurred                     | 1230                                                          \n",
            " Area ID                           | 21                                                            \n",
            " Area Name                         | Topanga                                                       \n",
            " Reporting District                | 2183                                                          \n",
            " Crime Code                        | 997                                                           \n",
            " Crime Code Description            | TRAFFIC COLLISION                                             \n",
            " MO Codes                          | null                                                          \n",
            " Victim Age                        | 85                                                            \n",
            " Victim Sex                        | F                                                             \n",
            " Victim Descent                    | W                                                             \n",
            " Premise Code                      | 101                                                           \n",
            " Premise Description               | STREET                                                        \n",
            " Address                           | VALMAR                                                        \n",
            " Cross Street                      | MULHOLLAND                                                    \n",
            " Location                          | \"{'latitude': '34.1526', 'human_address': '{\"\"address\"\": \"\"\"\" \n",
            " Zip Codes                         |  \"\"city\"\": \"\"\"\"                                               \n",
            " Census Tracts                     |  \"\"state\"\": \"\"\"\"                                              \n",
            " Precinct Boundaries               |  \"\"zip\"\": \"\"\"\"}'                                              \n",
            " LA Specific Plans                 |  'longitude': '-118.6307'}\"                                   \n",
            " Council Districts                 | 19346                                                         \n",
            " Neighborhood Councils (Certified) | 310                                                           \n",
            "-RECORD 2------------------------------------------------------------------------------------------\n",
            " DR Number                         | 191012715                                                     \n",
            " Date Reported                     | 2019-07-26 00:00:00                                           \n",
            " Date Occurred                     | 2019-07-26 00:00:00                                           \n",
            " Time Occurred                     | 2350                                                          \n",
            " Area ID                           | 10                                                            \n",
            " Area Name                         | West Valley                                                   \n",
            " Reporting District                | 1008                                                          \n",
            " Crime Code                        | 997                                                           \n",
            " Crime Code Description            | TRAFFIC COLLISION                                             \n",
            " MO Codes                          | null                                                          \n",
            " Victim Age                        | null                                                          \n",
            " Victim Sex                        | M                                                             \n",
            " Victim Descent                    | W                                                             \n",
            " Premise Code                      | 101                                                           \n",
            " Premise Description               | STREET                                                        \n",
            " Address                           | 7900    WOODLEY                      AV                       \n",
            " Cross Street                      | null                                                          \n",
            " Location                          | \"{'latitude': '34.2139', 'human_address': '{\"\"address\"\": \"\"\"\" \n",
            " Zip Codes                         |  \"\"city\"\": \"\"\"\"                                               \n",
            " Census Tracts                     |  \"\"state\"\": \"\"\"\"                                              \n",
            " Precinct Boundaries               |  \"\"zip\"\": \"\"\"\"}'                                              \n",
            " LA Specific Plans                 |  'longitude': '-118.4837'}\"                                   \n",
            " Council Districts                 | 19734                                                         \n",
            " Neighborhood Councils (Certified) | 2325                                                          \n",
            "-RECORD 3------------------------------------------------------------------------------------------\n",
            " DR Number                         | 190412661                                                     \n",
            " Date Reported                     | 2019-07-26 00:00:00                                           \n",
            " Date Occurred                     | 2019-07-26 00:00:00                                           \n",
            " Time Occurred                     | 1740                                                          \n",
            " Area ID                           | 4                                                             \n",
            " Area Name                         | Hollenbeck                                                    \n",
            " Reporting District                | 497                                                           \n",
            " Crime Code                        | 997                                                           \n",
            " Crime Code Description            | TRAFFIC COLLISION                                             \n",
            " MO Codes                          | null                                                          \n",
            " Victim Age                        | 29                                                            \n",
            " Victim Sex                        | M                                                             \n",
            " Victim Descent                    | W                                                             \n",
            " Premise Code                      | 101                                                           \n",
            " Premise Description               | STREET                                                        \n",
            " Address                           | SOTO                         ST                               \n",
            " Cross Street                      | OLYMPIC                      BL                               \n",
            " Location                          | \"{'latitude': '34.0238', 'human_address': '{\"\"address\"\": \"\"\"\" \n",
            " Zip Codes                         |  \"\"city\"\": \"\"\"\"                                               \n",
            " Census Tracts                     |  \"\"state\"\": \"\"\"\"                                              \n",
            " Precinct Boundaries               |  \"\"zip\"\": \"\"\"\"}'                                              \n",
            " LA Specific Plans                 |  'longitude': '-118.2199'}\"                                   \n",
            " Council Districts                 | 23441                                                         \n",
            " Neighborhood Councils (Certified) | 535                                                           \n",
            "-RECORD 4------------------------------------------------------------------------------------------\n",
            " DR Number                         | 191315678                                                     \n",
            " Date Reported                     | 2019-07-26 00:00:00                                           \n",
            " Date Occurred                     | 2019-07-26 00:00:00                                           \n",
            " Time Occurred                     | 1635                                                          \n",
            " Area ID                           | 13                                                            \n",
            " Area Name                         | Newton                                                        \n",
            " Reporting District                | 1333                                                          \n",
            " Crime Code                        | 997                                                           \n",
            " Crime Code Description            | TRAFFIC COLLISION                                             \n",
            " MO Codes                          | null                                                          \n",
            " Victim Age                        | 24                                                            \n",
            " Victim Sex                        | F                                                             \n",
            " Victim Descent                    | H                                                             \n",
            " Premise Code                      | 101                                                           \n",
            " Premise Description               | STREET                                                        \n",
            " Address                           | JEFFERSON                    BL                               \n",
            " Cross Street                      | MCKINLEY                     AV                               \n",
            " Location                          | \"{'latitude': '34.0132', 'human_address': '{\"\"address\"\": \"\"\"\" \n",
            " Zip Codes                         |  \"\"city\"\": \"\"\"\"                                               \n",
            " Census Tracts                     |  \"\"state\"\": \"\"\"\"                                              \n",
            " Precinct Boundaries               |  \"\"zip\"\": \"\"\"\"}'                                              \n",
            " LA Specific Plans                 |  'longitude': '-118.2603'}\"                                   \n",
            " Council Districts                 | 22727                                                         \n",
            " Neighborhood Councils (Certified) | 712                                                           \n",
            "-RECORD 5------------------------------------------------------------------------------------------\n",
            " DR Number                         | 190914301                                                     \n",
            " Date Reported                     | 2019-07-26 00:00:00                                           \n",
            " Date Occurred                     | 2019-07-26 00:00:00                                           \n",
            " Time Occurred                     | 1440                                                          \n",
            " Area ID                           | 9                                                             \n",
            " Area Name                         | Van Nuys                                                      \n",
            " Reporting District                | 937                                                           \n",
            " Crime Code                        | 997                                                           \n",
            " Crime Code Description            | TRAFFIC COLLISION                                             \n",
            " MO Codes                          | null                                                          \n",
            " Victim Age                        | 50                                                            \n",
            " Victim Sex                        | F                                                             \n",
            " Victim Descent                    | H                                                             \n",
            " Premise Code                      | 101                                                           \n",
            " Premise Description               | STREET                                                        \n",
            " Address                           | VICTORY                                                       \n",
            " Cross Street                      | MATILIJA                                                      \n",
            " Location                          | \"{'latitude': '34.1867', 'human_address': '{\"\"address\"\": \"\"\"\" \n",
            " Zip Codes                         |  \"\"city\"\": \"\"\"\"                                               \n",
            " Census Tracts                     |  \"\"state\"\": \"\"\"\"                                              \n",
            " Precinct Boundaries               |  \"\"zip\"\": \"\"\"\"}'                                              \n",
            " LA Specific Plans                 |  'longitude': '-118.4334'}\"                                   \n",
            " Council Districts                 | 19729                                                         \n",
            " Neighborhood Councils (Certified) | 235                                                           \n",
            "-RECORD 6------------------------------------------------------------------------------------------\n",
            " DR Number                         | 190412643                                                     \n",
            " Date Reported                     | 2019-07-26 00:00:00                                           \n",
            " Date Occurred                     | 2019-07-26 00:00:00                                           \n",
            " Time Occurred                     | 845                                                           \n",
            " Area ID                           | 4                                                             \n",
            " Area Name                         | Hollenbeck                                                    \n",
            " Reporting District                | 471                                                           \n",
            " Crime Code                        | 997                                                           \n",
            " Crime Code Description            | TRAFFIC COLLISION                                             \n",
            " MO Codes                          | null                                                          \n",
            " Victim Age                        | 36                                                            \n",
            " Victim Sex                        | F                                                             \n",
            " Victim Descent                    | W                                                             \n",
            " Premise Code                      | 101                                                           \n",
            " Premise Description               | STREET                                                        \n",
            " Address                           | ANDERSON                     ST                               \n",
            " Cross Street                      | SUNRISE                      ST                               \n",
            " Location                          | \"{'latitude': '34.0358', 'human_address': '{\"\"address\"\": \"\"\"\" \n",
            " Zip Codes                         |  \"\"city\"\": \"\"\"\"                                               \n",
            " Census Tracts                     |  \"\"state\"\": \"\"\"\"                                              \n",
            " Precinct Boundaries               |  \"\"zip\"\": \"\"\"\"}'                                              \n",
            " LA Specific Plans                 |  'longitude': '-118.2232'}\"                                   \n",
            " Council Districts                 | 23441                                                         \n",
            " Neighborhood Councils (Certified) | 535                                                           \n",
            "-RECORD 7------------------------------------------------------------------------------------------\n",
            " DR Number                         | 191514722                                                     \n",
            " Date Reported                     | 2019-07-26 00:00:00                                           \n",
            " Date Occurred                     | 2019-07-26 00:00:00                                           \n",
            " Time Occurred                     | 1550                                                          \n",
            " Area ID                           | 15                                                            \n",
            " Area Name                         | N Hollywood                                                   \n",
            " Reporting District                | 1566                                                          \n",
            " Crime Code                        | 997                                                           \n",
            " Crime Code Description            | TRAFFIC COLLISION                                             \n",
            " MO Codes                          | null                                                          \n",
            " Victim Age                        | 37                                                            \n",
            " Victim Sex                        | M                                                             \n",
            " Victim Descent                    | H                                                             \n",
            " Premise Code                      | 101                                                           \n",
            " Premise Description               | STREET                                                        \n",
            " Address                           | LANDALE                      ST                               \n",
            " Cross Street                      | BELLFLOWER                   AV                               \n",
            " Location                          | \"{'latitude': '34.1514', 'human_address': '{\"\"address\"\": \"\"\"\" \n",
            " Zip Codes                         |  \"\"city\"\": \"\"\"\"                                               \n",
            " Census Tracts                     |  \"\"state\"\": \"\"\"\"                                              \n",
            " Precinct Boundaries               |  \"\"zip\"\": \"\"\"\"}'                                              \n",
            " LA Specific Plans                 |  'longitude': '-118.3734'}\"                                   \n",
            " Council Districts                 | 8489                                                          \n",
            " Neighborhood Councils (Certified) | 343                                                           \n",
            "-RECORD 8------------------------------------------------------------------------------------------\n",
            " DR Number                         | 192113347                                                     \n",
            " Date Reported                     | 2019-07-26 00:00:00                                           \n",
            " Date Occurred                     | 2019-07-26 00:00:00                                           \n",
            " Time Occurred                     | 1030                                                          \n",
            " Area ID                           | 21                                                            \n",
            " Area Name                         | Topanga                                                       \n",
            " Reporting District                | 2107                                                          \n",
            " Crime Code                        | 997                                                           \n",
            " Crime Code Description            | TRAFFIC COLLISION                                             \n",
            " MO Codes                          | null                                                          \n",
            " Victim Age                        | 26                                                            \n",
            " Victim Sex                        | M                                                             \n",
            " Victim Descent                    | H                                                             \n",
            " Premise Code                      | 101                                                           \n",
            " Premise Description               | STREET                                                        \n",
            " Address                           | DE SOTO                                                       \n",
            " Cross Street                      | ROSCOE                                                        \n",
            " Location                          | \"{'latitude': '34.22', 'human_address': '{\"\"address\"\": \"\"\"\"   \n",
            " Zip Codes                         |  \"\"city\"\": \"\"\"\"                                               \n",
            " Census Tracts                     |  \"\"state\"\": \"\"\"\"                                              \n",
            " Precinct Boundaries               |  \"\"zip\"\": \"\"\"\"}'                                              \n",
            " LA Specific Plans                 |  'longitude': '-118.5885'}\"                                   \n",
            " Council Districts                 | 4282                                                          \n",
            " Neighborhood Councils (Certified) | 94                                                            \n",
            "-RECORD 9------------------------------------------------------------------------------------------\n",
            " DR Number                         | 190412649                                                     \n",
            " Date Reported                     | 2019-07-26 00:00:00                                           \n",
            " Date Occurred                     | 2019-07-26 00:00:00                                           \n",
            " Time Occurred                     | 225                                                           \n",
            " Area ID                           | 4                                                             \n",
            " Area Name                         | Hollenbeck                                                    \n",
            " Reporting District                | 477                                                           \n",
            " Crime Code                        | 997                                                           \n",
            " Crime Code Description            | TRAFFIC COLLISION                                             \n",
            " MO Codes                          | null                                                          \n",
            " Victim Age                        | null                                                          \n",
            " Victim Sex                        | F                                                             \n",
            " Victim Descent                    | X                                                             \n",
            " Premise Code                      | 101                                                           \n",
            " Premise Description               | STREET                                                        \n",
            " Address                           | 2800 E  6TH                          ST                       \n",
            " Cross Street                      | null                                                          \n",
            " Location                          | \"{'latitude': '34.035', 'human_address': '{\"\"address\"\": \"\"\"\"  \n",
            " Zip Codes                         |  \"\"city\"\": \"\"\"\"                                               \n",
            " Census Tracts                     |  \"\"state\"\": \"\"\"\"                                              \n",
            " Precinct Boundaries               |  \"\"zip\"\": \"\"\"\"}'                                              \n",
            " LA Specific Plans                 |  'longitude': '-118.2082'}\"                                   \n",
            " Council Districts                 | 23441                                                         \n",
            " Neighborhood Councils (Certified) | 524                                                           \n",
            "only showing top 10 rows\n",
            "\n"
          ],
          "name": "stdout"
        }
      ]
    },
    {
      "cell_type": "markdown",
      "metadata": {
        "id": "5ClEJVtki9Y6",
        "colab_type": "text"
      },
      "source": [
        "# Partitionnement\n",
        "Nous avons vu précédemment que la sortie du fichier json est obtenue avec un répertoire de plusieurs fichiers json. \n",
        "C'est parce que, comme nous l'avons vu également, les (méga)données sont trop volumineuses pour être traitées par un seul ordinateur.\n",
        "\n",
        "C'est pourquoi les outils fournis dans Apache Hadoop sont là pour : \n",
        "pouvoir travailler avec toutes les données en entrée\n",
        "répartir les calculs sur plusieurs ordinateurs\n",
        "mais aussi rassembler les résultats sous un seul résultat comme si les données avaient été traitées sur une seule machine. \n",
        "C'est pourquoi tous les dataframes Spark sont partitionnés de cette façon, et cela quelle que soit la taille des données.\n",
        "\n",
        "Habituellement, vous indiqueriez un répertoire en entrée contenant vos fichiers de \"données\" où chaque thread / processus / noyau / exécuteur lirait individuellement un fichier d'entrée. \n",
        "Lors de la création de la sortie, chaque écriture est réalisée en parallèle, et lorsque chacun des fichiers de sortie est combiné, ils forment le résultat de sortie unique. C'est là que HDFS joue un rôle -en tant que système de fichiers partagé- pour que tout ce parallélisme fonctionne.\n",
        "\n",
        "YARN est responsable de la gestion du calcul sur chaque ordinateur individuel lorsqu'il travaille effectivement au sein d'un cluster de nœuds. \n",
        "YARN gère les ressources CPU et mémoire. Très important quand on sait que le réseau est une ressource limitante, plutôt que de déplacer les données vers différents nœuds, YARN peut déplacer le travail de calcul là où se trouvent les données.\n",
        "\n",
        "Remarque : sur une seule machine locale, nous pouvons utiliser simplement le système de fichiers local"
      ]
    },
    {
      "cell_type": "markdown",
      "metadata": {
        "id": "m66VEt7Zi9Y7",
        "colab_type": "text"
      },
      "source": [
        "# Conclusion\n",
        "\n",
        "Ce TP est un 1er et bref aperçu d'un usage de Spark dans un contexte Big Data."
      ]
    }
  ]
}