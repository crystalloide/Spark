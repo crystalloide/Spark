{
  "nbformat": 4,
  "nbformat_minor": 0,
  "metadata": {
    "kernelspec": {
      "name": "python3",
      "display_name": "Python 3"
    },
    "colab": {
      "name": "Notebook exemple de SparkSQL",
      "provenance": [],
      "collapsed_sections": [],
      "include_colab_link": true
    }
  },
  "cells": [
    {
      "cell_type": "markdown",
      "metadata": {
        "id": "view-in-github",
        "colab_type": "text"
      },
      "source": [
        "<a href=\"https://colab.research.google.com/github/crystalloide/Spark/blob/master/Notebook_exemple_de_SparkSQL.ipynb\" target=\"_parent\"><img src=\"https://colab.research.google.com/assets/colab-badge.svg\" alt=\"Open In Colab\"/></a>"
      ]
    },
    {
      "cell_type": "code",
      "metadata": {
        "id": "HKgaoqIeTLWh",
        "colab_type": "code",
        "colab": {
          "base_uri": "https://localhost:8080/",
          "height": 51
        },
        "outputId": "78f3e95c-dc2e-48f9-bbad-438727a9e5a5"
      },
      "source": [
        "!pip install pyspark\n",
        "\n",
        "# !pip install IPython\n",
        "# !apt install openjdk-8-jdk\n",
        "# !apt autoremove \n",
        "# !java -version\n",
        "# !help"
      ],
      "execution_count": 1,
      "outputs": [
        {
          "output_type": "stream",
          "text": [
            "Requirement already satisfied: pyspark in /usr/local/lib/python3.6/dist-packages (2.4.5)\n",
            "Requirement already satisfied: py4j==0.10.7 in /usr/local/lib/python3.6/dist-packages (from pyspark) (0.10.7)\n"
          ],
          "name": "stdout"
        }
      ]
    },
    {
      "cell_type": "markdown",
      "metadata": {
        "id": "sAsPGw4EVKus",
        "colab_type": "text"
      },
      "source": [
        "**Spark SQL** \n",
        "\n",
        "Spark SQL est un composant au-dessus de Spark Core qui facilite le traitement des données structurées et semi-structurées et l'intégration de plusieurs comme source de formats de données (Hive, Parquet, JSON). \n",
        "\n",
        "Il permet de transformer des RDD en utilisant SQL (Structured Query Language). \n",
        "\n",
        "Pour démarrer Spark SQL dans votre bloc-notes, vous devez créer un contexte SQL. \n",
        "\n",
        "Pour cet exercice, nous allons importer un fichier JSON contenant des informations de la «Coupe du monde de football». \n",
        "\n",
        "Remarque : notre notebook jupyter doit utiliser un noyau en python 3 \n",
        "=> Penser à changer le noyau s'il est défini sur python 2.\n"
      ]
    },
    {
      "cell_type": "code",
      "metadata": {
        "id": "b40_gQQTd7Zb",
        "colab_type": "code",
        "colab": {
          "base_uri": "https://localhost:8080/",
          "height": 51
        },
        "outputId": "c6236b26-b6fe-4d67-a195-f96b27d097cb"
      },
      "source": [
        "%ls\n",
        "%pwd\n",
        "# % rm World*.*\n",
        "# % rm *.json\n",
        "# %ls\n"
      ],
      "execution_count": 2,
      "outputs": [
        {
          "output_type": "stream",
          "text": [
            "all-world-cup-players.json  \u001b[0m\u001b[01;34msample_data\u001b[0m/  \u001b[01;34mspark-warehouse\u001b[0m/\n"
          ],
          "name": "stdout"
        },
        {
          "output_type": "execute_result",
          "data": {
            "text/plain": [
              "'/content'"
            ]
          },
          "metadata": {
            "tags": []
          },
          "execution_count": 2
        }
      ]
    },
    {
      "cell_type": "code",
      "metadata": {
        "id": "loS9o6z2cguA",
        "colab_type": "code",
        "colab": {}
      },
      "source": [
        "# Au cas où vous souhaiteriez traiter un fichier stocké dans google drive \n",
        "# from google.colab import drive\n",
        "# drive.mount('/Fichiers')"
      ],
      "execution_count": 0,
      "outputs": []
    },
    {
      "cell_type": "code",
      "metadata": {
        "id": "g-9JOGEveIVF",
        "colab_type": "code",
        "colab": {}
      },
      "source": [
        "# Ici on va récupérer un fichier précis sur le poste local et l'uploader ensuite dans /content sur google colaboratory \n",
        "# Décommentez ci-dessous pour refaire l'upload :\n",
        "# from google.colab import files\n",
        "# files.upload()\n"
      ],
      "execution_count": 0,
      "outputs": []
    },
    {
      "cell_type": "code",
      "metadata": {
        "id": "WK2ImeSzfTnq",
        "colab_type": "code",
        "colab": {
          "base_uri": "https://localhost:8080/",
          "height": 34
        },
        "outputId": "d151ea42-6302-41e5-9c2f-79f4a43ed508"
      },
      "source": [
        "%ls\n",
        "# drive.flush_and_unmount()"
      ],
      "execution_count": 4,
      "outputs": [
        {
          "output_type": "stream",
          "text": [
            "all-world-cup-players.json  \u001b[0m\u001b[01;34msample_data\u001b[0m/  \u001b[01;34mspark-warehouse\u001b[0m/\n"
          ],
          "name": "stdout"
        }
      ]
    },
    {
      "cell_type": "code",
      "metadata": {
        "id": "3xlaqhtNb0zk",
        "colab_type": "code",
        "colab": {}
      },
      "source": [
        "from pyspark import SparkContext\n",
        "from pyspark.sql import SQLContext\n",
        "\n",
        "sc = SparkContext('local', 'Spark SQL') \n",
        "sqlc = SQLContext(sc)\n"
      ],
      "execution_count": 0,
      "outputs": []
    },
    {
      "cell_type": "markdown",
      "metadata": {
        "id": "-wdrejffVxtw",
        "colab_type": "text"
      },
      "source": [
        "Nous pouvons lire le fichier JSON que nous avons et créer un DataFrame (Spark SQL a un lecteur json disponible):"
      ]
    },
    {
      "cell_type": "code",
      "metadata": {
        "id": "5DvYtTQ3b0zq",
        "colab_type": "code",
        "outputId": "cc992ba8-9dc4-4027-e82e-c38466e7aa3c",
        "colab": {
          "base_uri": "https://localhost:8080/",
          "height": 799
        }
      },
      "source": [
        "# Si on voulait lire un fichier csv : \n",
        "# players = sqlc.read.format('com.databricks.spark.csv').options(header='true', inferschema='true').load('WorldCupPlayers.csv')\n",
        "\n",
        "# Mais ici, on veut lire un fichier json et - en plus- en multi-ligne :\n",
        "players = sqlc.read.option(\"multiline\", \"true\").json(\"all-world-cup-players.json\")\n",
        "\n",
        "# Affiche le schema sous forme d'arborescence\n",
        "players.printSchema()\n",
        "\n",
        "# Nous pouvons alors interroger notre vue :\n",
        "\n",
        "# Selectionne uniquement la colonne \"FullName\"\n",
        "players.select('FullName').show(20)\n",
        "\n",
        "# Et pour obtenir les noms des équipes :\n",
        "players.select('Team').show(2)"
      ],
      "execution_count": 6,
      "outputs": [
        {
          "output_type": "stream",
          "text": [
            "root\n",
            " |-- Club: string (nullable = true)\n",
            " |-- ClubCountry: string (nullable = true)\n",
            " |-- Competition: string (nullable = true)\n",
            " |-- DateOfBirth: string (nullable = true)\n",
            " |-- FullName: string (nullable = true)\n",
            " |-- IsCaptain: boolean (nullable = true)\n",
            " |-- Number: string (nullable = true)\n",
            " |-- Position: string (nullable = true)\n",
            " |-- Team: string (nullable = true)\n",
            " |-- Year: long (nullable = true)\n",
            "\n",
            "+--------------------+\n",
            "|            FullName|\n",
            "+--------------------+\n",
            "|        Ãngel Bossio|\n",
            "|        Juan Botasso|\n",
            "|      Roberto Cherro|\n",
            "|   Alberto Chividini|\n",
            "|                    |\n",
            "|                    |\n",
            "|       Juan Evaristo|\n",
            "|      Mario Evaristo|\n",
            "|     Manuel Ferreira|\n",
            "|          Luis Monti|\n",
            "|                    |\n",
            "|   Rodolfo Orlandini|\n",
            "|Fernando Paternoster|\n",
            "|   Natalio Perinetti|\n",
            "|     Carlos Peucelle|\n",
            "|     Edmundo Piaggio|\n",
            "|  Alejandro Scopelli|\n",
            "|      Carlos Spadaro|\n",
            "|                    |\n",
            "|                    |\n",
            "+--------------------+\n",
            "only showing top 20 rows\n",
            "\n",
            "+---------+\n",
            "|     Team|\n",
            "+---------+\n",
            "|Argentina|\n",
            "|Argentina|\n",
            "+---------+\n",
            "only showing top 2 rows\n",
            "\n"
          ],
          "name": "stdout"
        }
      ]
    },
    {
      "cell_type": "markdown",
      "metadata": {
        "id": "Ousyo51yV9kE",
        "colab_type": "text"
      },
      "source": [
        "Ensuite, nous pouvons créer une vue de notre DataFrame. \n",
        "\n",
        "La durée de vie de cette table temporaire est liée à la SparkSession qui a été utilisée pour créer ce DataFrame."
      ]
    },
    {
      "cell_type": "code",
      "metadata": {
        "id": "1Hg0aGtkWDC3",
        "colab_type": "code",
        "colab": {}
      },
      "source": [
        "players.registerTempTable(\"players_sql\")"
      ],
      "execution_count": 0,
      "outputs": []
    },
    {
      "cell_type": "markdown",
      "metadata": {
        "id": "E8KIMEe6WX_G",
        "colab_type": "text"
      },
      "source": [
        "Et nous avons toutes les possibilités du SQL pour créer une requête :"
      ]
    },
    {
      "cell_type": "code",
      "metadata": {
        "id": "4mZgAMFSK6Ln",
        "colab_type": "code",
        "colab": {
          "base_uri": "https://localhost:8080/",
          "height": 459
        },
        "outputId": "fce1e20e-c364-4a8e-88ed-55a44017be0b"
      },
      "source": [
        "query = \"\"\"SELECT * FROM players_sql\"\"\"\n",
        "teamcomplete = sqlc.sql( query )\n",
        "teamcomplete.show()"
      ],
      "execution_count": 8,
      "outputs": [
        {
          "output_type": "stream",
          "text": [
            "+--------------------+-----------+-----------+-----------+--------------------+---------+------+--------+---------+----+\n",
            "|                Club|ClubCountry|Competition|DateOfBirth|            FullName|IsCaptain|Number|Position|     Team|Year|\n",
            "+--------------------+-----------+-----------+-----------+--------------------+---------+------+--------+---------+----+\n",
            "|Club AtlÃ©tico Ta...|  Argentina|  World Cup|   1905-5-5|        Ãngel Bossio|    false|      |      GK|Argentina|1930|\n",
            "|Quilmes AtlÃ©tico...|  Argentina|  World Cup| 1908-10-23|        Juan Botasso|    false|      |      GK|Argentina|1930|\n",
            "|          Boca Junio|  Argentina|  World Cup|  1907-2-23|      Roberto Cherro|    false|      |      FW|Argentina|1930|\n",
            "|Central Norte TucumÃ|  Argentina|  World Cup|  1907-2-23|   Alberto Chividini|    false|      |      DF|Argentina|1930|\n",
            "|Club Atletico Est...|  Argentina|  World Cup|  1909-3-19|                    |    false|    10|      FW|Argentina|1930|\n",
            "|Racing Club de Av...|  Argentina|  World Cup|  1906-3-23|                    |    false|      |      DF|Argentina|1930|\n",
            "|     Sportivo Barrac|  Argentina|  World Cup|  1902-6-20|       Juan Evaristo|    false|      |      DF|Argentina|1930|\n",
            "|          Boca Junio|  Argentina|  World Cup| 1908-12-10|      Mario Evaristo|    false|      |      FW|Argentina|1930|\n",
            "|Estudiantes de La...|  Argentina|  World Cup| 1905-10-22|     Manuel Ferreira|     true|      |      FW|Argentina|1930|\n",
            "|Club AtlÃ©tico Sa...|  Argentina|  World Cup|  1901-5-15|          Luis Monti|    false|      |      MF|Argentina|1930|\n",
            "|          Boca Junio|  Argentina|  World Cup|  1899-3-12|                    |    false|      |      DF|Argentina|1930|\n",
            "|Club Atletico Est...|  Argentina|  World Cup|   1905-1-1|   Rodolfo Orlandini|    false|      |      DF|Argentina|1930|\n",
            "|Racing Club de Av...|  Argentina|  World Cup|  1903-5-24|Fernando Paternoster|    false|      |      DF|Argentina|1930|\n",
            "|Racing Club de Av...|  Argentina|  World Cup| 1900-12-28|   Natalio Perinetti|    false|      |      FW|Argentina|1930|\n",
            "|Club Sportivo Bue...|  Argentina|  World Cup|  1908-9-13|     Carlos Peucelle|    false|      |      FW|Argentina|1930|\n",
            "|Club AtlÃ©tico La...|  Argentina|  World Cup|  1910-10-3|     Edmundo Piaggio|    false|      |      DF|Argentina|1930|\n",
            "|Estudiantes de La...|  Argentina|  World Cup|  1908-5-12|  Alejandro Scopelli|    false|      |      FW|Argentina|1930|\n",
            "|Club AtlÃ©tico La...|  Argentina|  World Cup|   1902-2-5|      Carlos Spadaro|    false|    11|      FW|Argentina|1930|\n",
            "|Club AtlÃ©tico Hu...|  Argentina|  World Cup|  1905-1-17|                    |    false|      |      FW|Argentina|1930|\n",
            "|          Boca Junio|  Argentina|  World Cup| 1909-12-21|                    |    false|      |      MF|Argentina|1930|\n",
            "+--------------------+-----------+-----------+-----------+--------------------+---------+------+--------+---------+----+\n",
            "only showing top 20 rows\n",
            "\n"
          ],
          "name": "stdout"
        }
      ]
    },
    {
      "cell_type": "code",
      "metadata": {
        "id": "6fvo183RWffE",
        "colab_type": "code",
        "colab": {
          "base_uri": "https://localhost:8080/",
          "height": 646
        },
        "outputId": "ba38f385-0a18-4e8f-c818-45fa30fdd562"
      },
      "source": [
        "# Selection des noms des équipes depuis 2014 seulement  \n",
        "\n",
        "query2014 = \"\"\"SELECT DISTINCT Team, YEAR FROM players_sql WHERE Year == 2014\"\"\"\n",
        "team2014 = sqlc.sql( query2014 )\n",
        "team2014.show(50)\n",
        "\n",
        "# Autre écriture qui -elle- ne fonctionnera pas : \n",
        "# team2014 = sqlc.sql(\"SELECT DISTINCT Team, YEAR FROM players_sql WHERE Year == 2014\")\n",
        "\n",
        "# Les résultats des requêtes SQL sont des Dataframes.\n"
      ],
      "execution_count": 9,
      "outputs": [
        {
          "output_type": "stream",
          "text": [
            "+--------------------+----+\n",
            "|                Team|YEAR|\n",
            "+--------------------+----+\n",
            "|            Colombia|2014|\n",
            "|             Croatia|2014|\n",
            "|         Netherlands|2014|\n",
            "|                Iran|2014|\n",
            "|             Uruguay|2014|\n",
            "|              Greece|2014|\n",
            "|Bosnia and Herzeg...|2014|\n",
            "|          Costa Rica|2014|\n",
            "|             Ecuador|2014|\n",
            "|           Argentina|2014|\n",
            "|           Australia|2014|\n",
            "|              Mexico|2014|\n",
            "|              France|2014|\n",
            "|             Algeria|2014|\n",
            "|               Ghana|2014|\n",
            "|       United States|2014|\n",
            "|         Switzerland|2014|\n",
            "|            Honduras|2014|\n",
            "|              Russia|2014|\n",
            "|               Chile|2014|\n",
            "|         South Korea|2014|\n",
            "|               Italy|2014|\n",
            "|             Nigeria|2014|\n",
            "|         Ivory Coast|2014|\n",
            "|               Japan|2014|\n",
            "|              Brazil|2014|\n",
            "|             Belgium|2014|\n",
            "|               Spain|2014|\n",
            "|             Germany|2014|\n",
            "|            Portugal|2014|\n",
            "|            Cameroon|2014|\n",
            "|             England|2014|\n",
            "+--------------------+----+\n",
            "\n"
          ],
          "name": "stdout"
        }
      ]
    }
  ]
}